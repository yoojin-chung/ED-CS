{
  "nbformat": 4,
  "nbformat_minor": 0,
  "metadata": {
    "kernelspec": {
      "display_name": "Python 3",
      "language": "python",
      "name": "python3"
    },
    "language_info": {
      "codemirror_mode": {
        "name": "ipython",
        "version": 3
      },
      "file_extension": ".py",
      "mimetype": "text/x-python",
      "name": "python",
      "nbconvert_exporter": "python",
      "pygments_lexer": "ipython3",
      "version": "3.7.7"
    },
    "colab": {
      "name": "plot_behav.ipynb",
      "provenance": [],
      "include_colab_link": true
    }
  },
  "cells": [
    {
      "cell_type": "markdown",
      "metadata": {
        "id": "view-in-github",
        "colab_type": "text"
      },
      "source": [
        "<a href=\"https://colab.research.google.com/github/yoojin-chung/ED-CS/blob/master/plot_behav.ipynb\" target=\"_parent\"><img src=\"https://colab.research.google.com/assets/colab-badge.svg\" alt=\"Open In Colab\"/></a>"
      ]
    },
    {
      "cell_type": "markdown",
      "metadata": {
        "id": "Lq76fbeSioGV"
      },
      "source": [
        " ## Fig 11. Behavioral training results\n",
        " ### Set up and load data"
      ]
    },
    {
      "cell_type": "code",
      "metadata": {
        "colab": {
          "base_uri": "https://localhost:8080/",
          "height": 419
        },
        "id": "U5mFOrStioGd",
        "outputId": "b96a8b7b-1300-4354-908f-18249687c2bb"
      },
      "source": [
        "# Import libraries\n",
        "import pandas as pd\n",
        "import numpy as np\n",
        "import seaborn as sns\n",
        "import matplotlib.pyplot as plt\n",
        "from scipy.stats import binom_test\n",
        "#from functools import partial\n",
        "\n",
        "# Load data and reorganize\n",
        "DF = pd.read_csv('https://github.com/yoojin-chung/ED-CS/raw/master/data/behav.csv')\n",
        "DF = DF[['animal', 'ses', 'nTar', 'nVis', 'sucVis', 'nAud', 'sucAud']]\n",
        "DF"
      ],
      "execution_count": 16,
      "outputs": [
        {
          "output_type": "execute_result",
          "data": {
            "text/html": [
              "<div>\n",
              "<style scoped>\n",
              "    .dataframe tbody tr th:only-of-type {\n",
              "        vertical-align: middle;\n",
              "    }\n",
              "\n",
              "    .dataframe tbody tr th {\n",
              "        vertical-align: top;\n",
              "    }\n",
              "\n",
              "    .dataframe thead th {\n",
              "        text-align: right;\n",
              "    }\n",
              "</style>\n",
              "<table border=\"1\" class=\"dataframe\">\n",
              "  <thead>\n",
              "    <tr style=\"text-align: right;\">\n",
              "      <th></th>\n",
              "      <th>animal</th>\n",
              "      <th>ses</th>\n",
              "      <th>nTar</th>\n",
              "      <th>nVis</th>\n",
              "      <th>sucVis</th>\n",
              "      <th>nAud</th>\n",
              "      <th>sucAud</th>\n",
              "    </tr>\n",
              "  </thead>\n",
              "  <tbody>\n",
              "    <tr>\n",
              "      <th>0</th>\n",
              "      <td>J6</td>\n",
              "      <td>1</td>\n",
              "      <td>4</td>\n",
              "      <td>35</td>\n",
              "      <td>2</td>\n",
              "      <td>0</td>\n",
              "      <td>0</td>\n",
              "    </tr>\n",
              "    <tr>\n",
              "      <th>1</th>\n",
              "      <td>J6</td>\n",
              "      <td>2</td>\n",
              "      <td>4</td>\n",
              "      <td>88</td>\n",
              "      <td>7</td>\n",
              "      <td>0</td>\n",
              "      <td>0</td>\n",
              "    </tr>\n",
              "    <tr>\n",
              "      <th>2</th>\n",
              "      <td>J6</td>\n",
              "      <td>3</td>\n",
              "      <td>4</td>\n",
              "      <td>93</td>\n",
              "      <td>10</td>\n",
              "      <td>0</td>\n",
              "      <td>0</td>\n",
              "    </tr>\n",
              "    <tr>\n",
              "      <th>3</th>\n",
              "      <td>J6</td>\n",
              "      <td>4</td>\n",
              "      <td>4</td>\n",
              "      <td>103</td>\n",
              "      <td>8</td>\n",
              "      <td>0</td>\n",
              "      <td>0</td>\n",
              "    </tr>\n",
              "    <tr>\n",
              "      <th>4</th>\n",
              "      <td>J6</td>\n",
              "      <td>5</td>\n",
              "      <td>3</td>\n",
              "      <td>85</td>\n",
              "      <td>4</td>\n",
              "      <td>0</td>\n",
              "      <td>0</td>\n",
              "    </tr>\n",
              "    <tr>\n",
              "      <th>...</th>\n",
              "      <td>...</td>\n",
              "      <td>...</td>\n",
              "      <td>...</td>\n",
              "      <td>...</td>\n",
              "      <td>...</td>\n",
              "      <td>...</td>\n",
              "      <td>...</td>\n",
              "    </tr>\n",
              "    <tr>\n",
              "      <th>183</th>\n",
              "      <td>J10</td>\n",
              "      <td>42</td>\n",
              "      <td>4</td>\n",
              "      <td>0</td>\n",
              "      <td>0</td>\n",
              "      <td>101</td>\n",
              "      <td>42</td>\n",
              "    </tr>\n",
              "    <tr>\n",
              "      <th>184</th>\n",
              "      <td>J10</td>\n",
              "      <td>43</td>\n",
              "      <td>4</td>\n",
              "      <td>0</td>\n",
              "      <td>0</td>\n",
              "      <td>348</td>\n",
              "      <td>122</td>\n",
              "    </tr>\n",
              "    <tr>\n",
              "      <th>185</th>\n",
              "      <td>J10</td>\n",
              "      <td>44</td>\n",
              "      <td>4</td>\n",
              "      <td>0</td>\n",
              "      <td>0</td>\n",
              "      <td>337</td>\n",
              "      <td>98</td>\n",
              "    </tr>\n",
              "    <tr>\n",
              "      <th>186</th>\n",
              "      <td>J10</td>\n",
              "      <td>45</td>\n",
              "      <td>4</td>\n",
              "      <td>24</td>\n",
              "      <td>16</td>\n",
              "      <td>46</td>\n",
              "      <td>14</td>\n",
              "    </tr>\n",
              "    <tr>\n",
              "      <th>187</th>\n",
              "      <td>J10</td>\n",
              "      <td>46</td>\n",
              "      <td>4</td>\n",
              "      <td>21</td>\n",
              "      <td>16</td>\n",
              "      <td>122</td>\n",
              "      <td>40</td>\n",
              "    </tr>\n",
              "  </tbody>\n",
              "</table>\n",
              "<p>188 rows × 7 columns</p>\n",
              "</div>"
            ],
            "text/plain": [
              "    animal  ses  nTar  nVis  sucVis  nAud  sucAud\n",
              "0       J6    1     4    35       2     0       0\n",
              "1       J6    2     4    88       7     0       0\n",
              "2       J6    3     4    93      10     0       0\n",
              "3       J6    4     4   103       8     0       0\n",
              "4       J6    5     3    85       4     0       0\n",
              "..     ...  ...   ...   ...     ...   ...     ...\n",
              "183    J10   42     4     0       0   101      42\n",
              "184    J10   43     4     0       0   348     122\n",
              "185    J10   44     4     0       0   337      98\n",
              "186    J10   45     4    24      16    46      14\n",
              "187    J10   46     4    21      16   122      40\n",
              "\n",
              "[188 rows x 7 columns]"
            ]
          },
          "metadata": {
            "tags": []
          },
          "execution_count": 16
        }
      ]
    },
    {
      "cell_type": "markdown",
      "metadata": {
        "id": "xRZoTJeEioGf"
      },
      "source": [
        "### Compute p-values"
      ]
    },
    {
      "cell_type": "code",
      "metadata": {
        "colab": {
          "base_uri": "https://localhost:8080/",
          "height": 419
        },
        "id": "jA-x9OqQioGf",
        "outputId": "133a1360-7bf0-4ada-f3fa-7d9c74d47e38"
      },
      "source": [
        "# We subtract 1 from the number of targets because the target nearest to the animal was excluded in each trial\n",
        "# my_binom = partial(binom_test, alternative='greater')\n",
        "my_binom = lambda a, b, c: binom_test(a, b, 1/(c-1), alternative='greater')\n",
        "DF['vis_aud'] = list(map(my_binom, DF.sucVis, DF.nVis, DF.nTar))\n",
        "DF['aud'] = list(map(my_binom, DF.sucAud, DF.nAud, DF.nTar))\n",
        "# DF['vis_aud'] = DF.apply(\n",
        "#     lambda x: binom_test(x['sucVis'], x['nVis'], 1/(x['nTar']-1), alternative='greater'), axis=1)\n",
        "\n",
        "# Set p-values to NaN if there were no trials\n",
        "DF.loc[DF.nVis==0, 'vis_aud'] = np.nan\n",
        "DF.loc[DF.nAud==0, 'aud'] = np.nan\n",
        "# Set p-values<0.001 to a small value for plotting\n",
        "DF.loc[DF.vis_aud<0.001, 'vis_aud'] = 0.0005\n",
        "DF.loc[DF.aud<0.001, 'aud'] = 0.0005\n",
        "DF"
      ],
      "execution_count": 17,
      "outputs": [
        {
          "output_type": "execute_result",
          "data": {
            "text/html": [
              "<div>\n",
              "<style scoped>\n",
              "    .dataframe tbody tr th:only-of-type {\n",
              "        vertical-align: middle;\n",
              "    }\n",
              "\n",
              "    .dataframe tbody tr th {\n",
              "        vertical-align: top;\n",
              "    }\n",
              "\n",
              "    .dataframe thead th {\n",
              "        text-align: right;\n",
              "    }\n",
              "</style>\n",
              "<table border=\"1\" class=\"dataframe\">\n",
              "  <thead>\n",
              "    <tr style=\"text-align: right;\">\n",
              "      <th></th>\n",
              "      <th>animal</th>\n",
              "      <th>ses</th>\n",
              "      <th>nTar</th>\n",
              "      <th>nVis</th>\n",
              "      <th>sucVis</th>\n",
              "      <th>nAud</th>\n",
              "      <th>sucAud</th>\n",
              "      <th>vis_aud</th>\n",
              "      <th>aud</th>\n",
              "    </tr>\n",
              "  </thead>\n",
              "  <tbody>\n",
              "    <tr>\n",
              "      <th>0</th>\n",
              "      <td>J6</td>\n",
              "      <td>1</td>\n",
              "      <td>4</td>\n",
              "      <td>35</td>\n",
              "      <td>2</td>\n",
              "      <td>0</td>\n",
              "      <td>0</td>\n",
              "      <td>0.999987</td>\n",
              "      <td>NaN</td>\n",
              "    </tr>\n",
              "    <tr>\n",
              "      <th>1</th>\n",
              "      <td>J6</td>\n",
              "      <td>2</td>\n",
              "      <td>4</td>\n",
              "      <td>88</td>\n",
              "      <td>7</td>\n",
              "      <td>0</td>\n",
              "      <td>0</td>\n",
              "      <td>1.000000</td>\n",
              "      <td>NaN</td>\n",
              "    </tr>\n",
              "    <tr>\n",
              "      <th>2</th>\n",
              "      <td>J6</td>\n",
              "      <td>3</td>\n",
              "      <td>4</td>\n",
              "      <td>93</td>\n",
              "      <td>10</td>\n",
              "      <td>0</td>\n",
              "      <td>0</td>\n",
              "      <td>1.000000</td>\n",
              "      <td>NaN</td>\n",
              "    </tr>\n",
              "    <tr>\n",
              "      <th>3</th>\n",
              "      <td>J6</td>\n",
              "      <td>4</td>\n",
              "      <td>4</td>\n",
              "      <td>103</td>\n",
              "      <td>8</td>\n",
              "      <td>0</td>\n",
              "      <td>0</td>\n",
              "      <td>1.000000</td>\n",
              "      <td>NaN</td>\n",
              "    </tr>\n",
              "    <tr>\n",
              "      <th>4</th>\n",
              "      <td>J6</td>\n",
              "      <td>5</td>\n",
              "      <td>3</td>\n",
              "      <td>85</td>\n",
              "      <td>4</td>\n",
              "      <td>0</td>\n",
              "      <td>0</td>\n",
              "      <td>1.000000</td>\n",
              "      <td>NaN</td>\n",
              "    </tr>\n",
              "    <tr>\n",
              "      <th>...</th>\n",
              "      <td>...</td>\n",
              "      <td>...</td>\n",
              "      <td>...</td>\n",
              "      <td>...</td>\n",
              "      <td>...</td>\n",
              "      <td>...</td>\n",
              "      <td>...</td>\n",
              "      <td>...</td>\n",
              "      <td>...</td>\n",
              "    </tr>\n",
              "    <tr>\n",
              "      <th>183</th>\n",
              "      <td>J10</td>\n",
              "      <td>42</td>\n",
              "      <td>4</td>\n",
              "      <td>0</td>\n",
              "      <td>0</td>\n",
              "      <td>101</td>\n",
              "      <td>42</td>\n",
              "      <td>NaN</td>\n",
              "      <td>0.050872</td>\n",
              "    </tr>\n",
              "    <tr>\n",
              "      <th>184</th>\n",
              "      <td>J10</td>\n",
              "      <td>43</td>\n",
              "      <td>4</td>\n",
              "      <td>0</td>\n",
              "      <td>0</td>\n",
              "      <td>348</td>\n",
              "      <td>122</td>\n",
              "      <td>NaN</td>\n",
              "      <td>0.264611</td>\n",
              "    </tr>\n",
              "    <tr>\n",
              "      <th>185</th>\n",
              "      <td>J10</td>\n",
              "      <td>44</td>\n",
              "      <td>4</td>\n",
              "      <td>0</td>\n",
              "      <td>0</td>\n",
              "      <td>337</td>\n",
              "      <td>98</td>\n",
              "      <td>NaN</td>\n",
              "      <td>0.957994</td>\n",
              "    </tr>\n",
              "    <tr>\n",
              "      <th>186</th>\n",
              "      <td>J10</td>\n",
              "      <td>45</td>\n",
              "      <td>4</td>\n",
              "      <td>24</td>\n",
              "      <td>16</td>\n",
              "      <td>46</td>\n",
              "      <td>14</td>\n",
              "      <td>0.000500</td>\n",
              "      <td>0.712521</td>\n",
              "    </tr>\n",
              "    <tr>\n",
              "      <th>187</th>\n",
              "      <td>J10</td>\n",
              "      <td>46</td>\n",
              "      <td>4</td>\n",
              "      <td>21</td>\n",
              "      <td>16</td>\n",
              "      <td>122</td>\n",
              "      <td>40</td>\n",
              "      <td>0.000500</td>\n",
              "      <td>0.584615</td>\n",
              "    </tr>\n",
              "  </tbody>\n",
              "</table>\n",
              "<p>188 rows × 9 columns</p>\n",
              "</div>"
            ],
            "text/plain": [
              "    animal  ses  nTar  nVis  sucVis  nAud  sucAud   vis_aud       aud\n",
              "0       J6    1     4    35       2     0       0  0.999987       NaN\n",
              "1       J6    2     4    88       7     0       0  1.000000       NaN\n",
              "2       J6    3     4    93      10     0       0  1.000000       NaN\n",
              "3       J6    4     4   103       8     0       0  1.000000       NaN\n",
              "4       J6    5     3    85       4     0       0  1.000000       NaN\n",
              "..     ...  ...   ...   ...     ...   ...     ...       ...       ...\n",
              "183    J10   42     4     0       0   101      42       NaN  0.050872\n",
              "184    J10   43     4     0       0   348     122       NaN  0.264611\n",
              "185    J10   44     4     0       0   337      98       NaN  0.957994\n",
              "186    J10   45     4    24      16    46      14  0.000500  0.712521\n",
              "187    J10   46     4    21      16   122      40  0.000500  0.584615\n",
              "\n",
              "[188 rows x 9 columns]"
            ]
          },
          "metadata": {
            "tags": []
          },
          "execution_count": 17
        }
      ]
    },
    {
      "cell_type": "markdown",
      "metadata": {
        "id": "slbQ9-kGioGf"
      },
      "source": [
        "### Plot results"
      ]
    },
    {
      "cell_type": "code",
      "metadata": {
        "colab": {
          "base_uri": "https://localhost:8080/",
          "height": 544
        },
        "id": "TV67ZG-xioGg",
        "outputId": "ca2f40e9-6828-4d59-fc16-6be5f7c9b464"
      },
      "source": [
        "melted = pd.melt(DF, id_vars=['animal', 'ses'], value_vars=['vis_aud', 'aud'])\n",
        "melted = melted.rename(columns={'ses': 'Session', 'variable': 'Trial type', 'value': 'P-value'})\n",
        "\n",
        "sns.relplot(x='Session', y='P-value', \n",
        "            style='Trial type', hue='Trial type', \n",
        "            col='animal', col_wrap=2, data=melted, height=3.5, aspect=1.2)\n",
        "plt.yscale('log')\n",
        "plt.ylim([0.0004, 1.2])"
      ],
      "execution_count": 18,
      "outputs": [
        {
          "output_type": "execute_result",
          "data": {
            "text/plain": [
              "(0.0004, 1.2)"
            ]
          },
          "metadata": {
            "tags": []
          },
          "execution_count": 18
        },
        {
          "output_type": "display_data",
          "data": {
            "image/png": "[encoded data removed]",
            "text/plain": [
              "<Figure size 678.675x504 with 4 Axes>"
            ]
          },
          "metadata": {
            "tags": [],
            "needs_background": "light"
          }
        }
      ]
    },
    {
      "cell_type": "code",
      "metadata": {
        "colab": {
          "base_uri": "https://localhost:8080/",
          "height": 513
        },
        "id": "MAL-B90MioGg",
        "outputId": "2b345085-7bdb-4559-a0d3-d4dfcc8f97fc"
      },
      "source": [
        "fig, axes = plt.subplots(2, 2, figsize=(10, 8), sharex=True, sharey=True) \n",
        "animals = DF.animal.unique()\n",
        "\n",
        "for n, animal in enumerate(animals): \n",
        "    result = DF[DF.animal==animal]\n",
        "    x = n // 2\n",
        "    y = n % 2\n",
        "    axes[x, y].scatter(result['ses'][result.nVis != 0],\n",
        "               result.vis_aud[result.nVis != 0], marker='x', label='Vis+Aud')\n",
        "    axes[x, y].scatter(result['ses'][result.nAud != 0],\n",
        "               result.aud[result.nAud != 0], marker='d', label='Aud')\n",
        "    axes[x, y].plot([1, 50], [0.05, 0.05], '--k')\n",
        "    if n > 1:\n",
        "        axes[x, y].set_xlabel('Session')\n",
        "    if y == 0:\n",
        "        axes[x, y].set_ylabel('P-value')\n",
        "    if n == 0:\n",
        "        axes[x, y].legend(loc='best')\n",
        "    axes[x, y].spines['right'].set_color('none')\n",
        "    axes[x, y].spines['top'].set_color('none')\n",
        "    axes[x, y].set_yscale('log')\n",
        "    axes[x, y].set_title(animal)\n",
        "    axes[x, y].set_ylim([0.0004, 1.2])"
      ],
      "execution_count": 19,
      "outputs": [
        {
          "output_type": "display_data",
          "data": {
            "image/png": "[encoded data removed]",
            "text/plain": [
              "<Figure size 720x576 with 4 Axes>"
            ]
          },
          "metadata": {
            "tags": [],
            "needs_background": "light"
          }
        }
      ]
    }
  ]
}