{
  "nbformat": 4,
  "nbformat_minor": 0,
  "metadata": {
    "kernelspec": {
      "display_name": "Python 3",
      "language": "python",
      "name": "python3"
    },
    "language_info": {
      "codemirror_mode": {
        "name": "ipython",
        "version": 3
      },
      "file_extension": ".py",
      "mimetype": "text/x-python",
      "name": "python",
      "nbconvert_exporter": "python",
      "pygments_lexer": "ipython3",
      "version": "3.7.7"
    },
    "colab": {
      "name": "plot_sgn.ipynb",
      "provenance": [],
      "include_colab_link": true
    }
  },
  "cells": [
    {
      "cell_type": "markdown",
      "metadata": {
        "id": "view-in-github",
        "colab_type": "text"
      },
      "source": [
        "<a href=\"https://colab.research.google.com/github/yoojin-chung/ED-CS/blob/master/plot_sgn.ipynb\" target=\"_parent\"><img src=\"https://colab.research.google.com/assets/colab-badge.svg\" alt=\"Open In Colab\"/></a>"
      ]
    },
    {
      "cell_type": "markdown",
      "metadata": {
        "id": "6vrEReAVim3m"
      },
      "source": [
        " ## Figure - SGN counts & correlation with ITD sensitivity\n",
        " ### Set up and load data"
      ]
    },
    {
      "cell_type": "code",
      "metadata": {
        "scrolled": false,
        "id": "oONbnx4bim3s",
        "colab": {
          "base_uri": "https://localhost:8080/",
          "height": 793
        },
        "outputId": "5a6a9441-ff43-42dc-c363-242e73f56396"
      },
      "source": [
        "# Import libraries\n",
        "import pandas as pd\n",
        "import seaborn as sns\n",
        "import matplotlib.pyplot as plt\n",
        "from scipy.stats import kendalltau\n",
        "\n",
        "# Load data\n",
        "DF_sgn = pd.read_excel('https://raw.githubusercontent.com/yoojin-chung/ED-CS/master/data/sgn.xlsx', sheet_name='python')\n",
        "DF_sgn"
      ],
      "execution_count": 2,
      "outputs": [
        {
          "output_type": "execute_result",
          "data": {
            "text/html": [
              "<div>\n",
              "<style scoped>\n",
              "    .dataframe tbody tr th:only-of-type {\n",
              "        vertical-align: middle;\n",
              "    }\n",
              "\n",
              "    .dataframe tbody tr th {\n",
              "        vertical-align: top;\n",
              "    }\n",
              "\n",
              "    .dataframe thead th {\n",
              "        text-align: right;\n",
              "    }\n",
              "</style>\n",
              "<table border=\"1\" class=\"dataframe\">\n",
              "  <thead>\n",
              "    <tr style=\"text-align: right;\">\n",
              "      <th></th>\n",
              "      <th>group</th>\n",
              "      <th>animal</th>\n",
              "      <th>side</th>\n",
              "      <th>deafening</th>\n",
              "      <th>implantation</th>\n",
              "      <th>perfusion</th>\n",
              "      <th>dur_deafness</th>\n",
              "      <th>SGN</th>\n",
              "    </tr>\n",
              "  </thead>\n",
              "  <tbody>\n",
              "    <tr>\n",
              "      <th>0</th>\n",
              "      <td>ED-US</td>\n",
              "      <td>I1</td>\n",
              "      <td>R</td>\n",
              "      <td>0.0</td>\n",
              "      <td>51.0</td>\n",
              "      <td>579</td>\n",
              "      <td>579</td>\n",
              "      <td>14437.000</td>\n",
              "    </tr>\n",
              "    <tr>\n",
              "      <th>1</th>\n",
              "      <td>ED-US</td>\n",
              "      <td>I1</td>\n",
              "      <td>L</td>\n",
              "      <td>0.0</td>\n",
              "      <td>51.0</td>\n",
              "      <td>579</td>\n",
              "      <td>579</td>\n",
              "      <td>13850.000</td>\n",
              "    </tr>\n",
              "    <tr>\n",
              "      <th>2</th>\n",
              "      <td>ED-US</td>\n",
              "      <td>I4</td>\n",
              "      <td>R</td>\n",
              "      <td>0.0</td>\n",
              "      <td>52.0</td>\n",
              "      <td>333</td>\n",
              "      <td>333</td>\n",
              "      <td>22543.000</td>\n",
              "    </tr>\n",
              "    <tr>\n",
              "      <th>3</th>\n",
              "      <td>ED-US</td>\n",
              "      <td>I4</td>\n",
              "      <td>L</td>\n",
              "      <td>0.0</td>\n",
              "      <td>52.0</td>\n",
              "      <td>333</td>\n",
              "      <td>333</td>\n",
              "      <td>19886.000</td>\n",
              "    </tr>\n",
              "    <tr>\n",
              "      <th>4</th>\n",
              "      <td>ED-US</td>\n",
              "      <td>I5</td>\n",
              "      <td>R</td>\n",
              "      <td>0.0</td>\n",
              "      <td>94.0</td>\n",
              "      <td>419</td>\n",
              "      <td>419</td>\n",
              "      <td>11211.000</td>\n",
              "    </tr>\n",
              "    <tr>\n",
              "      <th>5</th>\n",
              "      <td>ED-US</td>\n",
              "      <td>I5</td>\n",
              "      <td>L</td>\n",
              "      <td>0.0</td>\n",
              "      <td>94.0</td>\n",
              "      <td>419</td>\n",
              "      <td>419</td>\n",
              "      <td>16225.000</td>\n",
              "    </tr>\n",
              "    <tr>\n",
              "      <th>6</th>\n",
              "      <td>AD</td>\n",
              "      <td>B63</td>\n",
              "      <td>R</td>\n",
              "      <td>434.0</td>\n",
              "      <td>434.0</td>\n",
              "      <td>519</td>\n",
              "      <td>85</td>\n",
              "      <td>21243.000</td>\n",
              "    </tr>\n",
              "    <tr>\n",
              "      <th>7</th>\n",
              "      <td>AD</td>\n",
              "      <td>B63</td>\n",
              "      <td>L</td>\n",
              "      <td>434.0</td>\n",
              "      <td>434.0</td>\n",
              "      <td>519</td>\n",
              "      <td>85</td>\n",
              "      <td>17401.000</td>\n",
              "    </tr>\n",
              "    <tr>\n",
              "      <th>8</th>\n",
              "      <td>NH</td>\n",
              "      <td>N1</td>\n",
              "      <td>R</td>\n",
              "      <td>NaN</td>\n",
              "      <td>NaN</td>\n",
              "      <td>599</td>\n",
              "      <td>0</td>\n",
              "      <td>25572.000</td>\n",
              "    </tr>\n",
              "    <tr>\n",
              "      <th>9</th>\n",
              "      <td>NH</td>\n",
              "      <td>N1</td>\n",
              "      <td>L</td>\n",
              "      <td>NaN</td>\n",
              "      <td>NaN</td>\n",
              "      <td>599</td>\n",
              "      <td>0</td>\n",
              "      <td>29981.000</td>\n",
              "    </tr>\n",
              "    <tr>\n",
              "      <th>10</th>\n",
              "      <td>NH</td>\n",
              "      <td>N2</td>\n",
              "      <td>R</td>\n",
              "      <td>NaN</td>\n",
              "      <td>NaN</td>\n",
              "      <td>486</td>\n",
              "      <td>0</td>\n",
              "      <td>24081.000</td>\n",
              "    </tr>\n",
              "    <tr>\n",
              "      <th>11</th>\n",
              "      <td>NH</td>\n",
              "      <td>N2</td>\n",
              "      <td>L</td>\n",
              "      <td>NaN</td>\n",
              "      <td>NaN</td>\n",
              "      <td>486</td>\n",
              "      <td>0</td>\n",
              "      <td>23623.000</td>\n",
              "    </tr>\n",
              "    <tr>\n",
              "      <th>12</th>\n",
              "      <td>ED-CS</td>\n",
              "      <td>J6</td>\n",
              "      <td>R</td>\n",
              "      <td>0.0</td>\n",
              "      <td>52.0</td>\n",
              "      <td>585</td>\n",
              "      <td>585</td>\n",
              "      <td>9500.400</td>\n",
              "    </tr>\n",
              "    <tr>\n",
              "      <th>13</th>\n",
              "      <td>ED-CS</td>\n",
              "      <td>J6</td>\n",
              "      <td>L</td>\n",
              "      <td>0.0</td>\n",
              "      <td>52.0</td>\n",
              "      <td>585</td>\n",
              "      <td>585</td>\n",
              "      <td>11727.500</td>\n",
              "    </tr>\n",
              "    <tr>\n",
              "      <th>14</th>\n",
              "      <td>ED-CS</td>\n",
              "      <td>J7</td>\n",
              "      <td>R</td>\n",
              "      <td>0.0</td>\n",
              "      <td>51.0</td>\n",
              "      <td>396</td>\n",
              "      <td>396</td>\n",
              "      <td>20160.000</td>\n",
              "    </tr>\n",
              "    <tr>\n",
              "      <th>15</th>\n",
              "      <td>ED-CS</td>\n",
              "      <td>J7</td>\n",
              "      <td>L</td>\n",
              "      <td>0.0</td>\n",
              "      <td>51.0</td>\n",
              "      <td>396</td>\n",
              "      <td>396</td>\n",
              "      <td>22560.000</td>\n",
              "    </tr>\n",
              "    <tr>\n",
              "      <th>16</th>\n",
              "      <td>ED-CS</td>\n",
              "      <td>J8</td>\n",
              "      <td>R</td>\n",
              "      <td>0.0</td>\n",
              "      <td>57.0</td>\n",
              "      <td>285</td>\n",
              "      <td>285</td>\n",
              "      <td>21266.240</td>\n",
              "    </tr>\n",
              "    <tr>\n",
              "      <th>17</th>\n",
              "      <td>ED-CS</td>\n",
              "      <td>J8</td>\n",
              "      <td>L</td>\n",
              "      <td>0.0</td>\n",
              "      <td>57.0</td>\n",
              "      <td>285</td>\n",
              "      <td>285</td>\n",
              "      <td>23207.250</td>\n",
              "    </tr>\n",
              "    <tr>\n",
              "      <th>18</th>\n",
              "      <td>ED-CS</td>\n",
              "      <td>J10</td>\n",
              "      <td>R</td>\n",
              "      <td>0.0</td>\n",
              "      <td>58.0</td>\n",
              "      <td>612</td>\n",
              "      <td>612</td>\n",
              "      <td>20179.760</td>\n",
              "    </tr>\n",
              "    <tr>\n",
              "      <th>19</th>\n",
              "      <td>ED-CS</td>\n",
              "      <td>J10</td>\n",
              "      <td>L</td>\n",
              "      <td>0.0</td>\n",
              "      <td>58.0</td>\n",
              "      <td>612</td>\n",
              "      <td>612</td>\n",
              "      <td>14130.955</td>\n",
              "    </tr>\n",
              "    <tr>\n",
              "      <th>20</th>\n",
              "      <td>ED-NI</td>\n",
              "      <td>J9</td>\n",
              "      <td>R</td>\n",
              "      <td>0.0</td>\n",
              "      <td>NaN</td>\n",
              "      <td>536</td>\n",
              "      <td>536</td>\n",
              "      <td>19640.860</td>\n",
              "    </tr>\n",
              "    <tr>\n",
              "      <th>21</th>\n",
              "      <td>ED-NI</td>\n",
              "      <td>J9</td>\n",
              "      <td>L</td>\n",
              "      <td>0.0</td>\n",
              "      <td>NaN</td>\n",
              "      <td>536</td>\n",
              "      <td>536</td>\n",
              "      <td>24076.850</td>\n",
              "    </tr>\n",
              "    <tr>\n",
              "      <th>22</th>\n",
              "      <td>NH</td>\n",
              "      <td>N3</td>\n",
              "      <td>R</td>\n",
              "      <td>NaN</td>\n",
              "      <td>NaN</td>\n",
              "      <td>521</td>\n",
              "      <td>0</td>\n",
              "      <td>32744.600</td>\n",
              "    </tr>\n",
              "    <tr>\n",
              "      <th>23</th>\n",
              "      <td>NH</td>\n",
              "      <td>N3</td>\n",
              "      <td>L</td>\n",
              "      <td>NaN</td>\n",
              "      <td>NaN</td>\n",
              "      <td>521</td>\n",
              "      <td>0</td>\n",
              "      <td>27158.715</td>\n",
              "    </tr>\n",
              "  </tbody>\n",
              "</table>\n",
              "</div>"
            ],
            "text/plain": [
              "    group animal side  ...  perfusion  dur_deafness        SGN\n",
              "0   ED-US     I1    R  ...        579           579  14437.000\n",
              "1   ED-US     I1    L  ...        579           579  13850.000\n",
              "2   ED-US     I4    R  ...        333           333  22543.000\n",
              "3   ED-US     I4    L  ...        333           333  19886.000\n",
              "4   ED-US     I5    R  ...        419           419  11211.000\n",
              "5   ED-US     I5    L  ...        419           419  16225.000\n",
              "6      AD    B63    R  ...        519            85  21243.000\n",
              "7      AD    B63    L  ...        519            85  17401.000\n",
              "8      NH     N1    R  ...        599             0  25572.000\n",
              "9      NH     N1    L  ...        599             0  29981.000\n",
              "10     NH     N2    R  ...        486             0  24081.000\n",
              "11     NH     N2    L  ...        486             0  23623.000\n",
              "12  ED-CS     J6    R  ...        585           585   9500.400\n",
              "13  ED-CS     J6    L  ...        585           585  11727.500\n",
              "14  ED-CS     J7    R  ...        396           396  20160.000\n",
              "15  ED-CS     J7    L  ...        396           396  22560.000\n",
              "16  ED-CS     J8    R  ...        285           285  21266.240\n",
              "17  ED-CS     J8    L  ...        285           285  23207.250\n",
              "18  ED-CS    J10    R  ...        612           612  20179.760\n",
              "19  ED-CS    J10    L  ...        612           612  14130.955\n",
              "20  ED-NI     J9    R  ...        536           536  19640.860\n",
              "21  ED-NI     J9    L  ...        536           536  24076.850\n",
              "22     NH     N3    R  ...        521             0  32744.600\n",
              "23     NH     N3    L  ...        521             0  27158.715\n",
              "\n",
              "[24 rows x 8 columns]"
            ]
          },
          "metadata": {
            "tags": []
          },
          "execution_count": 2
        }
      ]
    },
    {
      "cell_type": "markdown",
      "metadata": {
        "id": "ZY3ANOTTim3t"
      },
      "source": [
        "### Plot SGN count by groups and as a function of duration of deafness"
      ]
    },
    {
      "cell_type": "code",
      "metadata": {
        "scrolled": true,
        "id": "wh6UlmPKim3t",
        "colab": {
          "base_uri": "https://localhost:8080/",
          "height": 297
        },
        "outputId": "ac051aa4-48ed-420f-d291-3f908ca07acb"
      },
      "source": [
        "f, axs = plt.subplots(1, 2, figsize=(8, 4), gridspec_kw=dict(width_ratios=[2, 5]))\n",
        "# sns.barplot(x='group', y='SGN', order=['NH', 'ED-US', 'ED-CS'],\n",
        "#            data=DF_sgn[(DF_sgn.group!='AD') & (DF_sgn.group!='ED-NI')], ci='sd', ax=axs[0])\n",
        "sns.barplot(x='group', y='SGN', order=['NH', 'ED-US', 'ED-CS', 'AD'],\n",
        "            data=DF_sgn[DF_sgn.group!='ED-NI'], ci='sd', ax=axs[0])\n",
        "axs[0].set_ylim([0, 35000])\n",
        "sns.scatterplot(data=DF_sgn, x='dur_deafness', y='SGN',\n",
        "                hue='group', hue_order=['ED-US', 'NH', 'ED-CS', 'AD', 'ED-NI'], ax=axs[1])\n",
        "axs[1].set_ylim([0, 35000])\n",
        "axs[1].set_xlabel(\"Duration of deafness\")\n",
        "f.tight_layout()"
      ],
      "execution_count": 9,
      "outputs": [
        {
          "output_type": "display_data",
          "data": {
            "image/png": "[encoded data removed]",
            "text/plain": [
              "<Figure size 576x288 with 2 Axes>"
            ]
          },
          "metadata": {
            "tags": [],
            "needs_background": "light"
          }
        }
      ]
    },
    {
      "cell_type": "markdown",
      "metadata": {
        "id": "feMHH-Svim3u"
      },
      "source": [
        "### Test if there is a correlation between duration of deafness & SGN count"
      ]
    },
    {
      "cell_type": "code",
      "metadata": {
        "id": "VNRnConjim3u",
        "colab": {
          "base_uri": "https://localhost:8080/"
        },
        "outputId": "11f38e38-cb77-43cc-dc00-ee52305a7daa"
      },
      "source": [
        "def my_corr(DF, grp_name, x, y, plot):\n",
        "    tau, p_value = kendalltau(DF[x], DF[y])\n",
        "    print(\"Correlation between\", x, \"and\", y, \"in\", grp_name)\n",
        "    print(\"Kendall\\'s tau: %0.4f\" % tau)\n",
        "    print(\"P value: %0.4f \\n\" % p_value)\n",
        "    if plot:\n",
        "        sns.relplot(data=DF, x=x, y=y, hue='animal', height=3, aspect=1.4)\n",
        "\n",
        "my_corr(DF_sgn[DF_sgn.group!='NH'], 'AD and all ED groups', 'dur_deafness', 'SGN', False)\n",
        "my_corr(DF_sgn[DF_sgn.group!=(DF_sgn.group=='ED-US') | (DF_sgn.group=='ED-CS')],\n",
        "        'ED-US & ED-CS', 'dur_deafness', 'SGN', False)\n",
        "my_corr(DF_sgn[DF_sgn.group=='ED-CS'], 'ED-CS', 'dur_deafness', 'SGN', False)\n",
        "my_corr(DF_sgn[DF_sgn.group=='ED-US'], 'ED-US', 'dur_deafness', 'SGN', False)"
      ],
      "execution_count": null,
      "outputs": [
        {
          "output_type": "stream",
          "text": [
            "Correlation between dur_deafness and SGN in AD and all ED groups\n",
            "Kendall's tau: -0.3638\n",
            "P value: 0.0395 \n",
            "\n",
            "Correlation between dur_deafness and SGN in ED-US & ED-CS\n",
            "Kendall's tau: -0.6067\n",
            "P value: 0.0001 \n",
            "\n",
            "Correlation between dur_deafness and SGN in ED-CS\n",
            "Kendall's tau: -0.4629\n",
            "P value: 0.1255 \n",
            "\n",
            "Correlation between dur_deafness and SGN in ED-US\n",
            "Kendall's tau: -0.5963\n",
            "P value: 0.1120 \n",
            "\n"
          ],
          "name": "stdout"
        }
      ]
    },
    {
      "cell_type": "markdown",
      "metadata": {
        "id": "NUJiitN_im3u"
      },
      "source": [
        "### Test if there is a correlation between SGN and ITD STVR\n",
        "#### In ED-CS group"
      ]
    },
    {
      "cell_type": "code",
      "metadata": {
        "id": "EINUlKPNim3v",
        "colab": {
          "base_uri": "https://localhost:8080/",
          "height": 419
        },
        "outputId": "112825cb-fbb0-4e00-a6dd-b841e5021c72"
      },
      "source": [
        "# Select best ITD STVR for each unit\n",
        "DF = pd.read_csv('https://raw.githubusercontent.com/yoojin-chung/ED-CS/master/data/stvr.csv')\n",
        "DF = DF[['group', 'animal', 'SGN', 'unit', 'deaf_dur', 'pps', 'stvr', 'pval']]\n",
        "DF = DF[(DF.group=='ED-CS')]\n",
        "DF"
      ],
      "execution_count": null,
      "outputs": [
        {
          "output_type": "execute_result",
          "data": {
            "text/html": [
              "<div>\n",
              "<style scoped>\n",
              "    .dataframe tbody tr th:only-of-type {\n",
              "        vertical-align: middle;\n",
              "    }\n",
              "\n",
              "    .dataframe tbody tr th {\n",
              "        vertical-align: top;\n",
              "    }\n",
              "\n",
              "    .dataframe thead th {\n",
              "        text-align: right;\n",
              "    }\n",
              "</style>\n",
              "<table border=\"1\" class=\"dataframe\">\n",
              "  <thead>\n",
              "    <tr style=\"text-align: right;\">\n",
              "      <th></th>\n",
              "      <th>group</th>\n",
              "      <th>animal</th>\n",
              "      <th>SGN</th>\n",
              "      <th>unit</th>\n",
              "      <th>deaf_dur</th>\n",
              "      <th>pps</th>\n",
              "      <th>stvr</th>\n",
              "      <th>pval</th>\n",
              "    </tr>\n",
              "  </thead>\n",
              "  <tbody>\n",
              "    <tr>\n",
              "      <th>389</th>\n",
              "      <td>ED-CS</td>\n",
              "      <td>J6</td>\n",
              "      <td>10613.9500</td>\n",
              "      <td>J6_s06-2</td>\n",
              "      <td>221</td>\n",
              "      <td>20</td>\n",
              "      <td>0.111576</td>\n",
              "      <td>4.019290e-01</td>\n",
              "    </tr>\n",
              "    <tr>\n",
              "      <th>390</th>\n",
              "      <td>ED-CS</td>\n",
              "      <td>J6</td>\n",
              "      <td>10613.9500</td>\n",
              "      <td>J6_s06-2</td>\n",
              "      <td>221</td>\n",
              "      <td>40</td>\n",
              "      <td>0.155569</td>\n",
              "      <td>7.162131e-02</td>\n",
              "    </tr>\n",
              "    <tr>\n",
              "      <th>391</th>\n",
              "      <td>ED-CS</td>\n",
              "      <td>J6</td>\n",
              "      <td>10613.9500</td>\n",
              "      <td>J6_s06-2</td>\n",
              "      <td>221</td>\n",
              "      <td>80</td>\n",
              "      <td>0.278881</td>\n",
              "      <td>1.570000e-05</td>\n",
              "    </tr>\n",
              "    <tr>\n",
              "      <th>392</th>\n",
              "      <td>ED-CS</td>\n",
              "      <td>J6</td>\n",
              "      <td>10613.9500</td>\n",
              "      <td>J6_s06-2</td>\n",
              "      <td>221</td>\n",
              "      <td>160</td>\n",
              "      <td>0.000000</td>\n",
              "      <td>1.000000e+00</td>\n",
              "    </tr>\n",
              "    <tr>\n",
              "      <th>393</th>\n",
              "      <td>ED-CS</td>\n",
              "      <td>J6</td>\n",
              "      <td>10613.9500</td>\n",
              "      <td>J6_s06-2</td>\n",
              "      <td>221</td>\n",
              "      <td>320</td>\n",
              "      <td>0.000000</td>\n",
              "      <td>1.000000e+00</td>\n",
              "    </tr>\n",
              "    <tr>\n",
              "      <th>...</th>\n",
              "      <td>...</td>\n",
              "      <td>...</td>\n",
              "      <td>...</td>\n",
              "      <td>...</td>\n",
              "      <td>...</td>\n",
              "      <td>...</td>\n",
              "      <td>...</td>\n",
              "      <td>...</td>\n",
              "    </tr>\n",
              "    <tr>\n",
              "      <th>1014</th>\n",
              "      <td>ED-CS</td>\n",
              "      <td>J10</td>\n",
              "      <td>17155.3575</td>\n",
              "      <td>J10_s38-3</td>\n",
              "      <td>403</td>\n",
              "      <td>40</td>\n",
              "      <td>0.423574</td>\n",
              "      <td>3.240000e-14</td>\n",
              "    </tr>\n",
              "    <tr>\n",
              "      <th>1015</th>\n",
              "      <td>ED-CS</td>\n",
              "      <td>J10</td>\n",
              "      <td>17155.3575</td>\n",
              "      <td>J10_s38-3</td>\n",
              "      <td>403</td>\n",
              "      <td>80</td>\n",
              "      <td>0.782044</td>\n",
              "      <td>0.000000e+00</td>\n",
              "    </tr>\n",
              "    <tr>\n",
              "      <th>1016</th>\n",
              "      <td>ED-CS</td>\n",
              "      <td>J10</td>\n",
              "      <td>17155.3575</td>\n",
              "      <td>J10_s38-3</td>\n",
              "      <td>403</td>\n",
              "      <td>160</td>\n",
              "      <td>0.547123</td>\n",
              "      <td>0.000000e+00</td>\n",
              "    </tr>\n",
              "    <tr>\n",
              "      <th>1017</th>\n",
              "      <td>ED-CS</td>\n",
              "      <td>J10</td>\n",
              "      <td>17155.3575</td>\n",
              "      <td>J10_s38-3</td>\n",
              "      <td>403</td>\n",
              "      <td>320</td>\n",
              "      <td>0.112717</td>\n",
              "      <td>2.576378e-01</td>\n",
              "    </tr>\n",
              "    <tr>\n",
              "      <th>1018</th>\n",
              "      <td>ED-CS</td>\n",
              "      <td>J10</td>\n",
              "      <td>17155.3575</td>\n",
              "      <td>J10_s38-3</td>\n",
              "      <td>403</td>\n",
              "      <td>640</td>\n",
              "      <td>0.257349</td>\n",
              "      <td>2.956120e-04</td>\n",
              "    </tr>\n",
              "  </tbody>\n",
              "</table>\n",
              "<p>630 rows × 8 columns</p>\n",
              "</div>"
            ],
            "text/plain": [
              "      group animal         SGN  ...  pps      stvr          pval\n",
              "389   ED-CS     J6  10613.9500  ...   20  0.111576  4.019290e-01\n",
              "390   ED-CS     J6  10613.9500  ...   40  0.155569  7.162131e-02\n",
              "391   ED-CS     J6  10613.9500  ...   80  0.278881  1.570000e-05\n",
              "392   ED-CS     J6  10613.9500  ...  160  0.000000  1.000000e+00\n",
              "393   ED-CS     J6  10613.9500  ...  320  0.000000  1.000000e+00\n",
              "...     ...    ...         ...  ...  ...       ...           ...\n",
              "1014  ED-CS    J10  17155.3575  ...   40  0.423574  3.240000e-14\n",
              "1015  ED-CS    J10  17155.3575  ...   80  0.782044  0.000000e+00\n",
              "1016  ED-CS    J10  17155.3575  ...  160  0.547123  0.000000e+00\n",
              "1017  ED-CS    J10  17155.3575  ...  320  0.112717  2.576378e-01\n",
              "1018  ED-CS    J10  17155.3575  ...  640  0.257349  2.956120e-04\n",
              "\n",
              "[630 rows x 8 columns]"
            ]
          },
          "metadata": {
            "tags": []
          },
          "execution_count": 6
        }
      ]
    },
    {
      "cell_type": "code",
      "metadata": {
        "id": "4uEBekuqim3v",
        "colab": {
          "base_uri": "https://localhost:8080/",
          "height": 307
        },
        "outputId": "18560579-10f6-400c-b69b-5e4be0091b61"
      },
      "source": [
        "DF_unit = DF.groupby(['group','animal','unit']).max()\n",
        "DF_unit.reset_index(inplace=True)\n",
        "my_corr(DF_unit, 'ED-CS', 'SGN', 'stvr', True)"
      ],
      "execution_count": null,
      "outputs": [
        {
          "output_type": "stream",
          "text": [
            "Correlation between SGN and stvr in ED-CS\n",
            "Kendall's tau: 0.0943\n",
            "P value: 0.2091 \n",
            "\n"
          ],
          "name": "stdout"
        },
        {
          "output_type": "display_data",
          "data": {
            "image/png": "[encoded data removed]",
            "text/plain": [
              "<Figure size 353.9x216 with 1 Axes>"
            ]
          },
          "metadata": {
            "tags": [],
            "needs_background": "light"
          }
        }
      ]
    },
    {
      "cell_type": "markdown",
      "metadata": {
        "id": "PNAFaHT1im3v"
      },
      "source": [
        "No correlation looking at max STVR for each unit."
      ]
    },
    {
      "cell_type": "code",
      "metadata": {
        "id": "KhxyuLbgim3v",
        "colab": {
          "base_uri": "https://localhost:8080/",
          "height": 307
        },
        "outputId": "f104a2cc-daed-45de-f0ea-f2611cf262b5"
      },
      "source": [
        "my_corr(DF, 'ED-CS', 'SGN', 'stvr', True)"
      ],
      "execution_count": null,
      "outputs": [
        {
          "output_type": "stream",
          "text": [
            "Correlation between SGN and stvr in ED-CS\n",
            "Kendall's tau: 0.0814\n",
            "P value: 0.0076 \n",
            "\n"
          ],
          "name": "stdout"
        },
        {
          "output_type": "display_data",
          "data": {
            "image/png": "[encoded data removed]",
            "text/plain": [
              "<Figure size 353.9x216 with 1 Axes>"
            ]
          },
          "metadata": {
            "tags": [],
            "needs_background": "light"
          }
        }
      ]
    },
    {
      "cell_type": "markdown",
      "metadata": {
        "id": "aaqQgcdSim3w"
      },
      "source": [
        "When tested over STVR values from all pulse rate tested, there is a weak but significant positive correaltion.\n",
        "\n",
        "#### Correlation between SGN count and ITD STVR in ED-US group"
      ]
    },
    {
      "cell_type": "code",
      "metadata": {
        "id": "XUCLg-idim3w",
        "colab": {
          "base_uri": "https://localhost:8080/",
          "height": 307
        },
        "outputId": "0de1e4f7-2df3-45e1-bc54-e9091e69ea41"
      },
      "source": [
        "DF = pd.read_csv('https://raw.githubusercontent.com/yoojin-chung/ED-CS/master/data/stvr.csv')\n",
        "DF = DF[['group', 'animal', 'SGN', 'unit', 'deaf_dur', 'pps', 'stvr', 'pval']]\n",
        "DF = DF[(DF.group=='ED-US')]\n",
        "my_corr(DF, 'ED-US', 'SGN', 'stvr', True)"
      ],
      "execution_count": null,
      "outputs": [
        {
          "output_type": "stream",
          "text": [
            "Correlation between SGN and stvr in ED-US\n",
            "Kendall's tau: -0.0875\n",
            "P value: 0.0271 \n",
            "\n"
          ],
          "name": "stdout"
        },
        {
          "output_type": "display_data",
          "data": {
            "image/png": "[encoded data removed]",
            "text/plain": [
              "<Figure size 347.65x216 with 1 Axes>"
            ]
          },
          "metadata": {
            "tags": [],
            "needs_background": "light"
          }
        }
      ]
    },
    {
      "cell_type": "markdown",
      "metadata": {
        "id": "kO4Jr1joim3w"
      },
      "source": [
        "Negative correlation found in this group. This result is primarily driven by I4. "
      ]
    }
  ]
}