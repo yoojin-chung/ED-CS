{
  "nbformat": 4,
  "nbformat_minor": 0,
  "metadata": {
    "kernelspec": {
      "display_name": "Python 3",
      "language": "python",
      "name": "python3"
    },
    "language_info": {
      "codemirror_mode": {
        "name": "ipython",
        "version": 3
      },
      "file_extension": ".py",
      "mimetype": "text/x-python",
      "name": "python",
      "nbconvert_exporter": "python",
      "pygments_lexer": "ipython3",
      "version": "3.7.7"
    },
    "colab": {
      "name": "plot_stvr.ipynb",
      "provenance": [],
      "include_colab_link": true
    }
  },
  "cells": [
    {
      "cell_type": "markdown",
      "metadata": {
        "id": "view-in-github",
        "colab_type": "text"
      },
      "source": [
        "<a href=\"https://colab.research.google.com/github/yoojin-chung/ED-CS/blob/master/plot_stvr.ipynb\" target=\"_parent\"><img src=\"https://colab.research.google.com/assets/colab-badge.svg\" alt=\"Open In Colab\"/></a>"
      ]
    },
    {
      "cell_type": "markdown",
      "metadata": {
        "id": "UxWe73K6mfaY"
      },
      "source": [
        " ## Figure ITD STVR group data\n",
        " ### Set up and load data"
      ]
    },
    {
      "cell_type": "code",
      "metadata": {
        "id": "KJR7bRq5mfae",
        "outputId": "6acd31c8-1d27-4678-9c8d-2a753a3efac3",
        "colab": {
          "base_uri": "https://localhost:8080/",
          "height": 453
        }
      },
      "source": [
        "# Import libraries\n",
        "import pandas as pd\n",
        "import numpy as np\n",
        "import seaborn as sns\n",
        "import matplotlib.pyplot as plt\n",
        "import statsmodels.api as sm\n",
        "from statsmodels.formula.api import ols\n",
        "\n",
        "# Load data and reorganize\n",
        "DF = pd.read_csv('https://raw.githubusercontent.com/yoojin-chung/ED-CS/master/data/stvr.csv')\n",
        "DF['is_sig'] = DF.pval<0.01\n",
        "DF = DF[['group', 'animal', 'SGN', 'unit', 'deaf_dur', 'pps', 'stvr', 'pval', 'is_sig']]\n",
        "DF"
      ],
      "execution_count": 1,
      "outputs": [
        {
          "output_type": "stream",
          "text": [
            "/usr/local/lib/python3.6/dist-packages/statsmodels/tools/_testing.py:19: FutureWarning: pandas.util.testing is deprecated. Use the functions in the public API at pandas.testing instead.\n",
            "  import pandas.util.testing as tm\n"
          ],
          "name": "stderr"
        },
        {
          "output_type": "execute_result",
          "data": {
            "text/html": [
              "<div>\n",
              "<style scoped>\n",
              "    .dataframe tbody tr th:only-of-type {\n",
              "        vertical-align: middle;\n",
              "    }\n",
              "\n",
              "    .dataframe tbody tr th {\n",
              "        vertical-align: top;\n",
              "    }\n",
              "\n",
              "    .dataframe thead th {\n",
              "        text-align: right;\n",
              "    }\n",
              "</style>\n",
              "<table border=\"1\" class=\"dataframe\">\n",
              "  <thead>\n",
              "    <tr style=\"text-align: right;\">\n",
              "      <th></th>\n",
              "      <th>group</th>\n",
              "      <th>animal</th>\n",
              "      <th>SGN</th>\n",
              "      <th>unit</th>\n",
              "      <th>deaf_dur</th>\n",
              "      <th>pps</th>\n",
              "      <th>stvr</th>\n",
              "      <th>pval</th>\n",
              "      <th>is_sig</th>\n",
              "    </tr>\n",
              "  </thead>\n",
              "  <tbody>\n",
              "    <tr>\n",
              "      <th>0</th>\n",
              "      <td>ED-US</td>\n",
              "      <td>I1</td>\n",
              "      <td>14143.5</td>\n",
              "      <td>I1_s01-3</td>\n",
              "      <td>216</td>\n",
              "      <td>20</td>\n",
              "      <td>0.220906</td>\n",
              "      <td>2.827548e-01</td>\n",
              "      <td>False</td>\n",
              "    </tr>\n",
              "    <tr>\n",
              "      <th>1</th>\n",
              "      <td>ED-US</td>\n",
              "      <td>I1</td>\n",
              "      <td>14143.5</td>\n",
              "      <td>I1_s01-3</td>\n",
              "      <td>216</td>\n",
              "      <td>40</td>\n",
              "      <td>0.152746</td>\n",
              "      <td>7.551478e-01</td>\n",
              "      <td>False</td>\n",
              "    </tr>\n",
              "    <tr>\n",
              "      <th>2</th>\n",
              "      <td>ED-US</td>\n",
              "      <td>I1</td>\n",
              "      <td>14143.5</td>\n",
              "      <td>I1_s01-3</td>\n",
              "      <td>216</td>\n",
              "      <td>80</td>\n",
              "      <td>0.410322</td>\n",
              "      <td>2.100000e-13</td>\n",
              "      <td>True</td>\n",
              "    </tr>\n",
              "    <tr>\n",
              "      <th>3</th>\n",
              "      <td>ED-US</td>\n",
              "      <td>I1</td>\n",
              "      <td>14143.5</td>\n",
              "      <td>I1_s01-3</td>\n",
              "      <td>216</td>\n",
              "      <td>160</td>\n",
              "      <td>0.187449</td>\n",
              "      <td>5.065749e-01</td>\n",
              "      <td>False</td>\n",
              "    </tr>\n",
              "    <tr>\n",
              "      <th>4</th>\n",
              "      <td>ED-US</td>\n",
              "      <td>I1</td>\n",
              "      <td>14143.5</td>\n",
              "      <td>I1_s01-3</td>\n",
              "      <td>216</td>\n",
              "      <td>320</td>\n",
              "      <td>0.149873</td>\n",
              "      <td>7.734377e-01</td>\n",
              "      <td>False</td>\n",
              "    </tr>\n",
              "    <tr>\n",
              "      <th>...</th>\n",
              "      <td>...</td>\n",
              "      <td>...</td>\n",
              "      <td>...</td>\n",
              "      <td>...</td>\n",
              "      <td>...</td>\n",
              "      <td>...</td>\n",
              "      <td>...</td>\n",
              "      <td>...</td>\n",
              "      <td>...</td>\n",
              "    </tr>\n",
              "    <tr>\n",
              "      <th>1300</th>\n",
              "      <td>AD</td>\n",
              "      <td>B07</td>\n",
              "      <td>NaN</td>\n",
              "      <td>B07_s46-1</td>\n",
              "      <td>304</td>\n",
              "      <td>40</td>\n",
              "      <td>0.210615</td>\n",
              "      <td>6.321790e-04</td>\n",
              "      <td>True</td>\n",
              "    </tr>\n",
              "    <tr>\n",
              "      <th>1301</th>\n",
              "      <td>AD</td>\n",
              "      <td>B07</td>\n",
              "      <td>NaN</td>\n",
              "      <td>B07_s46-1</td>\n",
              "      <td>304</td>\n",
              "      <td>80</td>\n",
              "      <td>0.238427</td>\n",
              "      <td>6.090000e-05</td>\n",
              "      <td>True</td>\n",
              "    </tr>\n",
              "    <tr>\n",
              "      <th>1302</th>\n",
              "      <td>AD</td>\n",
              "      <td>B07</td>\n",
              "      <td>NaN</td>\n",
              "      <td>B07_s46-1</td>\n",
              "      <td>304</td>\n",
              "      <td>160</td>\n",
              "      <td>0.248809</td>\n",
              "      <td>2.390000e-05</td>\n",
              "      <td>True</td>\n",
              "    </tr>\n",
              "    <tr>\n",
              "      <th>1303</th>\n",
              "      <td>AD</td>\n",
              "      <td>B07</td>\n",
              "      <td>NaN</td>\n",
              "      <td>B07_s46-1</td>\n",
              "      <td>304</td>\n",
              "      <td>320</td>\n",
              "      <td>0.314556</td>\n",
              "      <td>3.120000e-08</td>\n",
              "      <td>True</td>\n",
              "    </tr>\n",
              "    <tr>\n",
              "      <th>1304</th>\n",
              "      <td>AD</td>\n",
              "      <td>B07</td>\n",
              "      <td>NaN</td>\n",
              "      <td>B07_s46-1</td>\n",
              "      <td>304</td>\n",
              "      <td>640</td>\n",
              "      <td>0.079774</td>\n",
              "      <td>6.040553e-01</td>\n",
              "      <td>False</td>\n",
              "    </tr>\n",
              "  </tbody>\n",
              "</table>\n",
              "<p>1305 rows × 9 columns</p>\n",
              "</div>"
            ],
            "text/plain": [
              "      group animal      SGN       unit  ...  pps      stvr          pval  is_sig\n",
              "0     ED-US     I1  14143.5   I1_s01-3  ...   20  0.220906  2.827548e-01   False\n",
              "1     ED-US     I1  14143.5   I1_s01-3  ...   40  0.152746  7.551478e-01   False\n",
              "2     ED-US     I1  14143.5   I1_s01-3  ...   80  0.410322  2.100000e-13    True\n",
              "3     ED-US     I1  14143.5   I1_s01-3  ...  160  0.187449  5.065749e-01   False\n",
              "4     ED-US     I1  14143.5   I1_s01-3  ...  320  0.149873  7.734377e-01   False\n",
              "...     ...    ...      ...        ...  ...  ...       ...           ...     ...\n",
              "1300     AD    B07      NaN  B07_s46-1  ...   40  0.210615  6.321790e-04    True\n",
              "1301     AD    B07      NaN  B07_s46-1  ...   80  0.238427  6.090000e-05    True\n",
              "1302     AD    B07      NaN  B07_s46-1  ...  160  0.248809  2.390000e-05    True\n",
              "1303     AD    B07      NaN  B07_s46-1  ...  320  0.314556  3.120000e-08    True\n",
              "1304     AD    B07      NaN  B07_s46-1  ...  640  0.079774  6.040553e-01   False\n",
              "\n",
              "[1305 rows x 9 columns]"
            ]
          },
          "metadata": {
            "tags": []
          },
          "execution_count": 1
        }
      ]
    },
    {
      "cell_type": "markdown",
      "metadata": {
        "id": "TtB7Cvejmfaf"
      },
      "source": [
        "### Plot Fraction of ITD-sensitive neurons as a function of pulse rate & ITD STVR vs PPS"
      ]
    },
    {
      "cell_type": "code",
      "metadata": {
        "scrolled": true,
        "id": "f9xO6ptTmfaf",
        "outputId": "b1c9e2fe-f7e8-4352-a259-e1953c58eff1",
        "colab": {
          "base_uri": "https://localhost:8080/",
          "height": 297
        }
      },
      "source": [
        "f, axs = plt.subplots(1, 2, figsize=(10, 4), gridspec_kw=dict(width_ratios=[4.5, 5.5]))\n",
        "sns.barplot(x='pps', y='is_sig', hue='group', hue_order=['ED-US', 'ED-CS', 'AD'],\n",
        "            ci=None, data=DF, palette='Set2', ax=axs[0])\n",
        "axs[0].set_ylabel(\"Fraction of units\")\n",
        "sns.boxplot(x='pps', y='stvr', hue='group', data=DF, palette='Set2', ax=axs[1])\n",
        "axs[1].set_ylabel(\"ITD STVR\")"
      ],
      "execution_count": 2,
      "outputs": [
        {
          "output_type": "execute_result",
          "data": {
            "text/plain": [
              "Text(0, 0.5, 'ITD STVR')"
            ]
          },
          "metadata": {
            "tags": []
          },
          "execution_count": 2
        },
        {
          "output_type": "display_data",
          "data": {
            "image/png": "[encoded data removed]",
            "text/plain": [
              "<Figure size 720x288 with 2 Axes>"
            ]
          },
          "metadata": {
            "tags": [],
            "needs_background": "light"
          }
        }
      ]
    },
    {
      "cell_type": "markdown",
      "metadata": {
        "id": "s9wpVVPTmfaf"
      },
      "source": [
        "### Two-way ANOVA on arcsine-transformed fraction of ITD sensitive units"
      ]
    },
    {
      "cell_type": "code",
      "metadata": {
        "id": "MKvhCeJ9mfag",
        "outputId": "6148e795-9098-4dc1-dd14-6bb0163bb089",
        "colab": {
          "base_uri": "https://localhost:8080/"
        }
      },
      "source": [
        "DFgrp = DF.groupby(['group', 'pps']).mean()\n",
        "DFgrp.drop(columns=['stvr', 'pval', 'SGN', 'deaf_dur'], inplace=True)\n",
        "DFgrp['frac_tr'] = np.arcsin(np.sqrt(DFgrp.is_sig))\n",
        "DFgrp.reset_index(inplace=True)\n",
        "\n",
        "model = ols('frac_tr ~ C(group) + C(pps)', data=DFgrp).fit()\n",
        "tbl = sm.stats.anova_lm(model, typ=2)\n",
        "tbl['mean_sq'] = tbl.sum_sq/tbl.df\n",
        "tbl = tbl[['sum_sq', 'df', 'mean_sq', 'F', 'PR(>F)']]\n",
        "\n",
        "print(\"Two-way ANOVA\")\n",
        "print(tbl)"
      ],
      "execution_count": 3,
      "outputs": [
        {
          "output_type": "stream",
          "text": [
            "Two-way ANOVA\n",
            "            sum_sq    df   mean_sq          F    PR(>F)\n",
            "C(group)  0.196073   2.0  0.098036  25.488965  0.000119\n",
            "C(pps)    0.482334   5.0  0.096467  25.080872  0.000023\n",
            "Residual  0.038462  10.0  0.003846        NaN       NaN\n"
          ],
          "name": "stdout"
        }
      ]
    },
    {
      "cell_type": "markdown",
      "metadata": {
        "id": "4e_6A2Nrmfag"
      },
      "source": [
        "### Two-way ANOVA on arcsine-transformed ITD STVR\n",
        "Compute effect size ${\\omega _{p}}^{2}$ as following:\n",
        "\n",
        "$${\\omega _{p}}^{2}=\\frac{df_\\text{effect}\\times \\left ( MS_\\text{effect}-MS_\\text{error} \\right )}{df_\\text{effect}\\times MS_\\text{effect}+\\left ( N-df_\\text{effect} \\right )\\times MS_\\text{error}}$$"
      ]
    },
    {
      "cell_type": "code",
      "metadata": {
        "id": "KzWSNLJ5mfag",
        "outputId": "4840f662-472d-45c6-b775-30fae17b5290",
        "colab": {
          "base_uri": "https://localhost:8080/"
        }
      },
      "source": [
        "# Partial omega squared\n",
        "def partial_omega_sq(tbl, ind):\n",
        "    \"\"\"Compute partial omega squared as shown. ANOVA table must include mean_sq.\"\"\"\n",
        "    part_omega = tbl.df[ind]*(tbl.mean_sq[ind]-tbl.mean_sq['Residual'])/\\\n",
        "             (tbl.sum_sq[ind] + (sum(tbl.df) + 1 - tbl.df[ind])*tbl.mean_sq['Residual'])\n",
        "    return part_omega\n",
        "\n",
        "# Set types for anova\n",
        "DF.group = DF['group'].astype('category')\n",
        "DF.pps = DF['pps'].astype('category')\n",
        "DF.stvr = DF['stvr'].astype('float')\n",
        "\n",
        "# Arcsine transform to make the data more Gaussian-like\n",
        "DF['stvr_tr'] = np.arcsin(np.sqrt(DF.stvr))\n",
        "\n",
        "# 2-way anova with interaction\n",
        "model = ols('stvr_tr ~ C(group, Sum) * C(pps, Sum)', data=DF).fit()\n",
        "tbl = sm.stats.anova_lm(model, typ=3)\n",
        "tbl['mean_sq'] = tbl.sum_sq/tbl.df\n",
        "tbl = tbl[['sum_sq', 'df', 'mean_sq', 'F', 'PR(>F)']]\n",
        "tbl = tbl.drop(index='Intercept')\n",
        "print('Two-way ANOVA with interaction')\n",
        "print(tbl)\n",
        "\n",
        "# Compute effect size\n",
        "ef_group = partial_omega_sq(tbl, 0)\n",
        "print(\"\\nPartial omega squared for group: %0.5f\" % ef_group)\n",
        "\n",
        "ef_pps = partial_omega_sq(tbl, 1)\n",
        "print(\"Partial omega squared for pps: %0.5f\" % ef_pps)"
      ],
      "execution_count": 4,
      "outputs": [
        {
          "output_type": "stream",
          "text": [
            "Two-way ANOVA with interaction\n",
            "                              sum_sq      df   mean_sq          F        PR(>F)\n",
            "C(group, Sum)               1.503131     2.0  0.751566  14.265143  7.454139e-07\n",
            "C(pps, Sum)                 5.458994     5.0  1.091799  20.722963  5.908151e-20\n",
            "C(group, Sum):C(pps, Sum)   0.317146    10.0  0.031715   0.601962  8.132235e-01\n",
            "Residual                   67.806187  1287.0  0.052685        NaN           NaN\n",
            "\n",
            "Partial omega squared for group: 0.01992\n",
            "Partial omega squared for pps: 0.07026\n"
          ],
          "name": "stdout"
        }
      ]
    },
    {
      "cell_type": "markdown",
      "metadata": {
        "id": "FbBkNmnMmfah"
      },
      "source": [
        "### Two-way ANOVA on arcsine-transformed ITD STVR - without interaction"
      ]
    },
    {
      "cell_type": "code",
      "metadata": {
        "id": "rq9VizJ-mfah",
        "outputId": "40f9bef6-9aac-4bbb-80e4-3ca0d9c65883",
        "colab": {
          "base_uri": "https://localhost:8080/"
        }
      },
      "source": [
        "# Interaciton is not significant - try removing it for EF calculation\n",
        "model = ols('stvr_tr ~ C(group) + C(pps)', data=DF).fit()\n",
        "tbl = sm.stats.anova_lm(model, typ=2)\n",
        "tbl['mean_sq'] = tbl.sum_sq/tbl.df\n",
        "tbl = tbl[['sum_sq', 'df', 'mean_sq', 'F', 'PR(>F)']]\n",
        "print(\"Two-way ANOVA no interaction\")\n",
        "print(tbl)\n",
        "\n",
        "# Compute effect size\n",
        "ef_group = partial_omega_sq(tbl, 0)\n",
        "print(\"\\nPartial omega squared for group: %0.5f\" % ef_group)\n",
        "\n",
        "ef_pps = partial_omega_sq(tbl, 1)\n",
        "print(\"Partial omega squared for pps: %0.5f\" % ef_pps)"
      ],
      "execution_count": 5,
      "outputs": [
        {
          "output_type": "stream",
          "text": [
            "Two-way ANOVA no interaction\n",
            "             sum_sq      df   mean_sq          F        PR(>F)\n",
            "C(group)   1.644541     2.0  0.822270  15.655204  1.913374e-07\n",
            "C(pps)     6.344610     5.0  1.268922  24.159003  2.643114e-23\n",
            "Residual  68.123333  1297.0  0.052524        NaN           NaN\n",
            "\n",
            "Partial omega squared for group: 0.02197\n",
            "Partial omega squared for pps: 0.08150\n"
          ],
          "name": "stdout"
        }
      ]
    }
  ]
}